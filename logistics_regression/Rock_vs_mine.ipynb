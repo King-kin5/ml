{
 "cells": [
  {
   "cell_type": "code",
   "execution_count": null,
   "id": "17937b09",
   "metadata": {},
   "outputs": [
    {
     "ename": "",
     "evalue": "",
     "output_type": "error",
     "traceback": [
      "\u001b[1;31mFailed to start the Kernel. \n",
      "\u001b[1;31mUnable to start Kernel 'Python 3.13.2' due to a timeout waiting for the ports to get used. \n",
      "\u001b[1;31mView Jupyter <a href='command:jupyter.viewOutput'>log</a> for further details."
     ]
    }
   ],
   "source": [
    "\n",
    "import numpy as np\n",
    "import pandas as pd\n",
    "from sklearn.model_selection import train_test_split\n",
    "from sklearn.linear_model import LogisticRegression\n",
    "from sklearn.metrics import accuracy_score"
   ]
  },
  {
   "cell_type": "code",
   "execution_count": null,
   "id": "f3a1fc14",
   "metadata": {},
   "outputs": [],
   "source": [
    "data=pd.read_csv('sonar_data.csv',header=None)"
   ]
  },
  {
   "cell_type": "code",
   "execution_count": null,
   "id": "966fb532",
   "metadata": {},
   "outputs": [],
   "source": [
    "data.head()"
   ]
  },
  {
   "cell_type": "code",
   "execution_count": null,
   "id": "eac7c5e1",
   "metadata": {},
   "outputs": [],
   "source": [
    "data.shape"
   ]
  },
  {
   "cell_type": "code",
   "execution_count": null,
   "id": "9aa0ba59",
   "metadata": {},
   "outputs": [],
   "source": [
    "total=data.isnull().sum().sort_values(ascending=False)\n",
    "print(total[total > 0])"
   ]
  },
  {
   "cell_type": "code",
   "execution_count": null,
   "id": "37b9a548",
   "metadata": {},
   "outputs": [],
   "source": [
    "data.describe()"
   ]
  },
  {
   "cell_type": "markdown",
   "id": "c7d30d7d",
   "metadata": {},
   "source": [
    "Find the count of Rocks and Mines"
   ]
  },
  {
   "cell_type": "code",
   "execution_count": null,
   "id": "00ec6e9a",
   "metadata": {},
   "outputs": [],
   "source": [
    "data[60].value_counts()"
   ]
  },
  {
   "cell_type": "code",
   "execution_count": null,
   "id": "08271d5c",
   "metadata": {},
   "outputs": [],
   "source": [
    "data.groupby(60).mean()"
   ]
  },
  {
   "cell_type": "code",
   "execution_count": null,
   "id": "b4dadd6a",
   "metadata": {},
   "outputs": [],
   "source": [
    "X = data.drop(columns = 60, axis = 1)\n",
    "Y = data[60]\n",
    "     \n",
    "\n",
    "print(X)\n",
    "print(Y)"
   ]
  },
  {
   "cell_type": "code",
   "execution_count": null,
   "id": "19f9937f",
   "metadata": {},
   "outputs": [],
   "source": [
    "data[60].value_counts()"
   ]
  },
  {
   "cell_type": "markdown",
   "id": "cc21344e",
   "metadata": {},
   "source": [
    "Model Building : Logistic Regression"
   ]
  },
  {
   "cell_type": "code",
   "execution_count": null,
   "id": "89cdfd15",
   "metadata": {},
   "outputs": [],
   "source": [
    "X=data.drop(columns=60,axis=1)     # dependent Variable\n",
    "X"
   ]
  },
  {
   "cell_type": "code",
   "execution_count": null,
   "id": "9c6a519d",
   "metadata": {},
   "outputs": [],
   "source": [
    "y=data[60]    # independent Variable\n",
    "y"
   ]
  },
  {
   "cell_type": "code",
   "execution_count": null,
   "id": "3b1b401b",
   "metadata": {},
   "outputs": [],
   "source": [
    "\n",
    "\n",
    "X_train, X_test, y_train, y_test = train_test_split(X, y, test_size=0.2, stratify=y, random_state=45)"
   ]
  },
  {
   "cell_type": "code",
   "execution_count": null,
   "id": "deeffcb0",
   "metadata": {},
   "outputs": [],
   "source": [
    "print(X.shape, X_train.shape, X_test.shape)"
   ]
  },
  {
   "cell_type": "code",
   "execution_count": null,
   "id": "206395c8",
   "metadata": {},
   "outputs": [],
   "source": [
    "print(y.shape, y_train.shape, y_test.shape)"
   ]
  },
  {
   "cell_type": "markdown",
   "id": "3b51f701",
   "metadata": {},
   "source": [
    "Model Training"
   ]
  },
  {
   "cell_type": "code",
   "execution_count": null,
   "id": "682cc4c1",
   "metadata": {},
   "outputs": [],
   "source": [
    "model = LogisticRegression()\n",
    "model.fit(X_train, y_train)"
   ]
  },
  {
   "cell_type": "code",
   "execution_count": null,
   "id": "3c37aa40",
   "metadata": {},
   "outputs": [],
   "source": [
    "#accuracy on training data\n",
    "X_train_prediction = model.predict(X_train)\n",
    "accuracy_training_data = accuracy_score(X_train_prediction, y_train) \n",
    "print('Accuracy on Training Data : ', accuracy_training_data)"
   ]
  },
  {
   "cell_type": "code",
   "execution_count": null,
   "id": "c8971d26",
   "metadata": {},
   "outputs": [],
   "source": [
    "#accuracy on testing data\n",
    "X_test_prediction = model.predict(X_test)\n",
    "accuracy_test_data = accuracy_score(X_test_prediction, y_test) \n",
    "print('Accuracy on test data : ',accuracy_test_data )"
   ]
  }
 ],
 "metadata": {
  "kernelspec": {
   "display_name": "Python 3",
   "language": "python",
   "name": "python3"
  },
  "language_info": {
   "codemirror_mode": {
    "name": "ipython",
    "version": 3
   },
   "file_extension": ".py",
   "mimetype": "text/x-python",
   "name": "python",
   "nbconvert_exporter": "python",
   "pygments_lexer": "ipython3",
   "version": "3.13.2"
  }
 },
 "nbformat": 4,
 "nbformat_minor": 5
}
