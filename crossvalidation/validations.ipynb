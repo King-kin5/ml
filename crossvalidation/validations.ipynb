{
 "cells": [
  {
   "cell_type": "code",
   "execution_count": 29,
   "id": "6b319872",
   "metadata": {},
   "outputs": [],
   "source": [
    "import numpy as np\n",
    "import pandas as pd\n",
    "import seaborn as sns\n"
   ]
  },
  {
   "cell_type": "code",
   "execution_count": 30,
   "id": "25db3dfa",
   "metadata": {},
   "outputs": [],
   "source": [
    "data=pd.read_csv('Churn.csv',na_values='',index_col='customerID')"
   ]
  },
  {
   "cell_type": "code",
   "execution_count": 31,
   "id": "a8e61ebb",
   "metadata": {},
   "outputs": [
    {
     "data": {
      "text/html": [
       "<div>\n",
       "<style scoped>\n",
       "    .dataframe tbody tr th:only-of-type {\n",
       "        vertical-align: middle;\n",
       "    }\n",
       "\n",
       "    .dataframe tbody tr th {\n",
       "        vertical-align: top;\n",
       "    }\n",
       "\n",
       "    .dataframe thead th {\n",
       "        text-align: right;\n",
       "    }\n",
       "</style>\n",
       "<table border=\"1\" class=\"dataframe\">\n",
       "  <thead>\n",
       "    <tr style=\"text-align: right;\">\n",
       "      <th></th>\n",
       "      <th>gender</th>\n",
       "      <th>SeniorCitizen</th>\n",
       "      <th>Partner</th>\n",
       "      <th>Dependents</th>\n",
       "      <th>tenure</th>\n",
       "      <th>PhoneService</th>\n",
       "      <th>MultipleLines</th>\n",
       "      <th>InternetService</th>\n",
       "      <th>OnlineSecurity</th>\n",
       "      <th>OnlineBackup</th>\n",
       "      <th>DeviceProtection</th>\n",
       "      <th>TechSupport</th>\n",
       "      <th>StreamingTV</th>\n",
       "      <th>StreamingMovies</th>\n",
       "      <th>Contract</th>\n",
       "      <th>PaperlessBilling</th>\n",
       "      <th>PaymentMethod</th>\n",
       "      <th>MonthlyCharges</th>\n",
       "      <th>TotalCharges</th>\n",
       "      <th>Churn</th>\n",
       "    </tr>\n",
       "    <tr>\n",
       "      <th>customerID</th>\n",
       "      <th></th>\n",
       "      <th></th>\n",
       "      <th></th>\n",
       "      <th></th>\n",
       "      <th></th>\n",
       "      <th></th>\n",
       "      <th></th>\n",
       "      <th></th>\n",
       "      <th></th>\n",
       "      <th></th>\n",
       "      <th></th>\n",
       "      <th></th>\n",
       "      <th></th>\n",
       "      <th></th>\n",
       "      <th></th>\n",
       "      <th></th>\n",
       "      <th></th>\n",
       "      <th></th>\n",
       "      <th></th>\n",
       "      <th></th>\n",
       "    </tr>\n",
       "  </thead>\n",
       "  <tbody>\n",
       "    <tr>\n",
       "      <th>7590-VHVEG</th>\n",
       "      <td>Female</td>\n",
       "      <td>0</td>\n",
       "      <td>Yes</td>\n",
       "      <td>No</td>\n",
       "      <td>1</td>\n",
       "      <td>No</td>\n",
       "      <td>No phone service</td>\n",
       "      <td>DSL</td>\n",
       "      <td>No</td>\n",
       "      <td>Yes</td>\n",
       "      <td>No</td>\n",
       "      <td>No</td>\n",
       "      <td>No</td>\n",
       "      <td>No</td>\n",
       "      <td>Month-to-month</td>\n",
       "      <td>Yes</td>\n",
       "      <td>Electronic check</td>\n",
       "      <td>29.85</td>\n",
       "      <td>29.85</td>\n",
       "      <td>No</td>\n",
       "    </tr>\n",
       "    <tr>\n",
       "      <th>5575-GNVDE</th>\n",
       "      <td>Male</td>\n",
       "      <td>0</td>\n",
       "      <td>No</td>\n",
       "      <td>No</td>\n",
       "      <td>34</td>\n",
       "      <td>Yes</td>\n",
       "      <td>No</td>\n",
       "      <td>DSL</td>\n",
       "      <td>Yes</td>\n",
       "      <td>No</td>\n",
       "      <td>Yes</td>\n",
       "      <td>No</td>\n",
       "      <td>No</td>\n",
       "      <td>No</td>\n",
       "      <td>One year</td>\n",
       "      <td>No</td>\n",
       "      <td>Mailed check</td>\n",
       "      <td>56.95</td>\n",
       "      <td>1889.5</td>\n",
       "      <td>No</td>\n",
       "    </tr>\n",
       "    <tr>\n",
       "      <th>3668-QPYBK</th>\n",
       "      <td>Male</td>\n",
       "      <td>0</td>\n",
       "      <td>No</td>\n",
       "      <td>No</td>\n",
       "      <td>2</td>\n",
       "      <td>Yes</td>\n",
       "      <td>No</td>\n",
       "      <td>DSL</td>\n",
       "      <td>Yes</td>\n",
       "      <td>Yes</td>\n",
       "      <td>No</td>\n",
       "      <td>No</td>\n",
       "      <td>No</td>\n",
       "      <td>No</td>\n",
       "      <td>Month-to-month</td>\n",
       "      <td>Yes</td>\n",
       "      <td>Mailed check</td>\n",
       "      <td>53.85</td>\n",
       "      <td>108.15</td>\n",
       "      <td>Yes</td>\n",
       "    </tr>\n",
       "    <tr>\n",
       "      <th>7795-CFOCW</th>\n",
       "      <td>Male</td>\n",
       "      <td>0</td>\n",
       "      <td>No</td>\n",
       "      <td>No</td>\n",
       "      <td>45</td>\n",
       "      <td>No</td>\n",
       "      <td>No phone service</td>\n",
       "      <td>DSL</td>\n",
       "      <td>Yes</td>\n",
       "      <td>No</td>\n",
       "      <td>Yes</td>\n",
       "      <td>Yes</td>\n",
       "      <td>No</td>\n",
       "      <td>No</td>\n",
       "      <td>One year</td>\n",
       "      <td>No</td>\n",
       "      <td>Bank transfer (automatic)</td>\n",
       "      <td>42.30</td>\n",
       "      <td>1840.75</td>\n",
       "      <td>No</td>\n",
       "    </tr>\n",
       "    <tr>\n",
       "      <th>9237-HQITU</th>\n",
       "      <td>Female</td>\n",
       "      <td>0</td>\n",
       "      <td>No</td>\n",
       "      <td>No</td>\n",
       "      <td>2</td>\n",
       "      <td>Yes</td>\n",
       "      <td>No</td>\n",
       "      <td>Fiber optic</td>\n",
       "      <td>No</td>\n",
       "      <td>No</td>\n",
       "      <td>No</td>\n",
       "      <td>No</td>\n",
       "      <td>No</td>\n",
       "      <td>No</td>\n",
       "      <td>Month-to-month</td>\n",
       "      <td>Yes</td>\n",
       "      <td>Electronic check</td>\n",
       "      <td>70.70</td>\n",
       "      <td>151.65</td>\n",
       "      <td>Yes</td>\n",
       "    </tr>\n",
       "  </tbody>\n",
       "</table>\n",
       "</div>"
      ],
      "text/plain": [
       "            gender  SeniorCitizen Partner Dependents  tenure PhoneService  \\\n",
       "customerID                                                                  \n",
       "7590-VHVEG  Female              0     Yes         No       1           No   \n",
       "5575-GNVDE    Male              0      No         No      34          Yes   \n",
       "3668-QPYBK    Male              0      No         No       2          Yes   \n",
       "7795-CFOCW    Male              0      No         No      45           No   \n",
       "9237-HQITU  Female              0      No         No       2          Yes   \n",
       "\n",
       "               MultipleLines InternetService OnlineSecurity OnlineBackup  \\\n",
       "customerID                                                                 \n",
       "7590-VHVEG  No phone service             DSL             No          Yes   \n",
       "5575-GNVDE                No             DSL            Yes           No   \n",
       "3668-QPYBK                No             DSL            Yes          Yes   \n",
       "7795-CFOCW  No phone service             DSL            Yes           No   \n",
       "9237-HQITU                No     Fiber optic             No           No   \n",
       "\n",
       "           DeviceProtection TechSupport StreamingTV StreamingMovies  \\\n",
       "customerID                                                            \n",
       "7590-VHVEG               No          No          No              No   \n",
       "5575-GNVDE              Yes          No          No              No   \n",
       "3668-QPYBK               No          No          No              No   \n",
       "7795-CFOCW              Yes         Yes          No              No   \n",
       "9237-HQITU               No          No          No              No   \n",
       "\n",
       "                  Contract PaperlessBilling              PaymentMethod  \\\n",
       "customerID                                                               \n",
       "7590-VHVEG  Month-to-month              Yes           Electronic check   \n",
       "5575-GNVDE        One year               No               Mailed check   \n",
       "3668-QPYBK  Month-to-month              Yes               Mailed check   \n",
       "7795-CFOCW        One year               No  Bank transfer (automatic)   \n",
       "9237-HQITU  Month-to-month              Yes           Electronic check   \n",
       "\n",
       "            MonthlyCharges TotalCharges Churn  \n",
       "customerID                                     \n",
       "7590-VHVEG           29.85        29.85    No  \n",
       "5575-GNVDE           56.95       1889.5    No  \n",
       "3668-QPYBK           53.85       108.15   Yes  \n",
       "7795-CFOCW           42.30      1840.75    No  \n",
       "9237-HQITU           70.70       151.65   Yes  "
      ]
     },
     "execution_count": 31,
     "metadata": {},
     "output_type": "execute_result"
    }
   ],
   "source": [
    "data.head()"
   ]
  },
  {
   "cell_type": "code",
   "execution_count": 32,
   "id": "323ba687",
   "metadata": {},
   "outputs": [
    {
     "data": {
      "text/plain": [
       "<Axes: xlabel='Churn', ylabel='Count'>"
      ]
     },
     "execution_count": 32,
     "metadata": {},
     "output_type": "execute_result"
    },
    {
     "data": {
      "image/png": "[encoded data removed]",
      "text/plain": [
       "<Figure size 640x480 with 1 Axes>"
      ]
     },
     "metadata": {},
     "output_type": "display_data"
    }
   ],
   "source": [
    "sns.histplot(x='Churn', data=data)"
   ]
  },
  {
   "cell_type": "markdown",
   "id": "274ee0b3",
   "metadata": {},
   "source": [
    "K FOLD ALOGRITHM\n"
   ]
  },
  {
   "cell_type": "markdown",
   "id": "d1334a5b",
   "metadata": {},
   "source": [
    "In the 'K-fold' algorithm, for example, the data is splitted into k folds (hence the name). Then, in each iteration round the model is trained in k-1 folds, while one fold is used for validation. This process is repeated, changing the test fold in each iteration, until all folds have been used for validation."
   ]
  },
  {
   "cell_type": "code",
   "execution_count": 33,
   "id": "0d542487",
   "metadata": {},
   "outputs": [],
   "source": [
    "from sklearn.model_selection import KFold\n",
    "\n",
    "\n",
    "\n",
    "kf = KFold(n_splits=5, shuffle=False, random_state=None)\n",
    "idxs = kf.split(data)"
   ]
  },
  {
   "cell_type": "code",
   "execution_count": 34,
   "id": "71d7df7b",
   "metadata": {},
   "outputs": [
    {
     "name": "stdout",
     "output_type": "stream",
     "text": [
      "Iteration 0:\n",
      "First 5 train indeces: [1409 1410 1411 1412 1413]\n",
      "Last 5 train indeces: [7038 7039 7040 7041 7042]\n",
      "First 5 test indeces: [0 1 2 3 4]\n",
      "Last 5 test indeces: [1404 1405 1406 1407 1408]\n",
      "\n",
      "Iteration 1:\n",
      "First 5 train indeces: [0 1 2 3 4]\n",
      "Last 5 train indeces: [7038 7039 7040 7041 7042]\n",
      "First 5 test indeces: [1409 1410 1411 1412 1413]\n",
      "Last 5 test indeces: [2813 2814 2815 2816 2817]\n",
      "\n",
      "Iteration 2:\n",
      "First 5 train indeces: [0 1 2 3 4]\n",
      "Last 5 train indeces: [7038 7039 7040 7041 7042]\n",
      "First 5 test indeces: [2818 2819 2820 2821 2822]\n",
      "Last 5 test indeces: [4222 4223 4224 4225 4226]\n",
      "\n",
      "Iteration 3:\n",
      "First 5 train indeces: [0 1 2 3 4]\n",
      "Last 5 train indeces: [7038 7039 7040 7041 7042]\n",
      "First 5 test indeces: [4227 4228 4229 4230 4231]\n",
      "Last 5 test indeces: [5630 5631 5632 5633 5634]\n",
      "\n",
      "Iteration 4:\n",
      "First 5 train indeces: [0 1 2 3 4]\n",
      "Last 5 train indeces: [5630 5631 5632 5633 5634]\n",
      "First 5 test indeces: [5635 5636 5637 5638 5639]\n",
      "Last 5 test indeces: [7038 7039 7040 7041 7042]\n",
      "\n"
     ]
    }
   ],
   "source": [
    "for i, idx in enumerate(idxs):\n",
    "    print(f'Iteration {i}:')\n",
    "    print(f'First 5 train indeces: {idx[0][:5]}')\n",
    "    print(f'Last 5 train indeces: {idx[0][-5:]}')\n",
    "    print(f'First 5 test indeces: {idx[1][:5]}')\n",
    "    print(f'Last 5 test indeces: {idx[1][-5:]}\\n')"
   ]
  },
  {
   "cell_type": "markdown",
   "id": "3d51924e",
   "metadata": {},
   "source": [
    "| Iteration | Test Indices Range | Train Indices Range (combined) |\n",
    "| --------- | ------------------ | ------------------------------ |\n",
    "| 0         | 0 – 1408           | 1409 – 7042                    |\n",
    "| 1         | 1409 – 2817        | 0 – 1408, 2818 – 7042          |\n",
    "| 2         | 2818 – 4226        | 0 – 2817, 4227 – 7042          |\n",
    "| 3         | 4227 – 5634        | 0 – 4226, 5635 – 7042          |\n",
    "| 4         | 5635 – 7042        | 0 – 5634                       |\n",
    "\n",
    "Explanation\n",
    "Each fold uses a different 1/5th slice of the data for testing.\n",
    "\n",
    "The rest of the indices are used for training.\n",
    "\n",
    "Every sample appears once in the test set and four times in the training sets across the 5 iterations.\n",
    " 7043 total data points (based on your last index).\n",
    "\n",
    "📦 Fold Sizes\n",
    "Total samples = 7043\n",
    "\n",
    "5 folds ⇒ each fold = 7043 ÷ 5 ≈ 1408.6 ≈ 1408 or 1409\n",
    "The actual fold sizes will vary a bit to ensure the full dataset is used.\n",
    "\n"
   ]
  },
  {
   "cell_type": "markdown",
   "id": "36ab7138",
   "metadata": {},
   "source": [
    "Repeated K-Fold"
   ]
  },
  {
   "cell_type": "markdown",
   "id": "9686b5de",
   "metadata": {},
   "source": [
    "In some cases you may want to get different k-folds in each training iteration. The RepeatedKFold class makes a (possibly) different splitting in each training iteration. Hence, instead of switching between partitions, you just generate whole new partitions, so your training iterations aren't necessarily restricted to the number of folds you generate"
   ]
  },
  {
   "cell_type": "code",
   "execution_count": 35,
   "id": "2f361e2c",
   "metadata": {},
   "outputs": [],
   "source": [
    "from sklearn.model_selection import RepeatedKFold\n",
    "\n",
    "rkf = RepeatedKFold(n_splits=3, n_repeats=2, random_state=None)\n",
    "\n",
    "idxs = rkf.split(data)"
   ]
  },
  {
   "cell_type": "code",
   "execution_count": 36,
   "id": "dfc0b487",
   "metadata": {},
   "outputs": [
    {
     "name": "stdout",
     "output_type": "stream",
     "text": [
      "Iteration 0:\n",
      "Fold 0:\n",
      "First 5 train indeces: [0 1 3 5 6]\n",
      "Last 5 train indeces: [7035 7036 7037 7039 7040]\n",
      "First 5 test indeces: [ 2  4 12 13 16]\n",
      "Last 5 test indeces: [7028 7033 7038 7041 7042]\n",
      "\n",
      "Iteration 0:\n",
      "Fold 1:\n",
      "First 5 train indeces: [0 2 3 4 5]\n",
      "Last 5 train indeces: [7036 7038 7039 7041 7042]\n",
      "First 5 test indeces: [ 1  6  7 14 17]\n",
      "Last 5 test indeces: [7030 7034 7035 7037 7040]\n",
      "\n",
      "Iteration 0:\n",
      "Fold 2:\n",
      "First 5 train indeces: [1 2 4 6 7]\n",
      "Last 5 train indeces: [7037 7038 7040 7041 7042]\n",
      "First 5 test indeces: [0 3 5 8 9]\n",
      "Last 5 test indeces: [7029 7031 7032 7036 7039]\n",
      "\n",
      "Iteration 1:\n",
      "Fold 0:\n",
      "First 5 train indeces: [0 3 4 5 7]\n",
      "Last 5 train indeces: [7037 7038 7039 7040 7041]\n",
      "First 5 test indeces: [1 2 6 8 9]\n",
      "Last 5 test indeces: [7030 7032 7035 7036 7042]\n",
      "\n",
      "Iteration 1:\n",
      "Fold 1:\n",
      "First 5 train indeces: [1 2 3 6 7]\n",
      "Last 5 train indeces: [7037 7038 7039 7041 7042]\n",
      "First 5 test indeces: [ 0  4  5 10 15]\n",
      "Last 5 test indeces: [7022 7024 7025 7029 7040]\n",
      "\n",
      "Iteration 1:\n",
      "Fold 2:\n",
      "First 5 train indeces: [0 1 2 4 5]\n",
      "Last 5 train indeces: [7032 7035 7036 7040 7042]\n",
      "First 5 test indeces: [ 3  7 12 14 17]\n",
      "Last 5 test indeces: [7034 7037 7038 7039 7041]\n",
      "\n"
     ]
    }
   ],
   "source": [
    "for i, idx in enumerate(idxs):\n",
    "    print(f'Iteration {i//3}:')\n",
    "    print(f'Fold {i%3}:')\n",
    "    print(f'First 5 train indeces: {idx[0][:5]}')\n",
    "    print(f'Last 5 train indeces: {idx[0][-5:]}')\n",
    "    print(f'First 5 test indeces: {idx[1][:5]}')\n",
    "    print(f'Last 5 test indeces: {idx[1][-5:]}\\n')"
   ]
  },
  {
   "cell_type": "markdown",
   "id": "8139ac8f",
   "metadata": {},
   "source": [
    "rkf = RepeatedKFold(n_splits=3, n_repeats=2, random_state=None)\n",
    "idxs = rkf.split(data)\n",
    "\n",
    "n_splits=3: Each repeat has 3 folds (3 different test sets per repeat).\n",
    "n_repeats=2: The whole 3-fold process is repeated twice.\n",
    "So you get 3 × 2 = 6 iterations in total.\n",
    "random_state=None: Different results each time you run it (not fixed)"
   ]
  },
  {
   "cell_type": "markdown",
   "id": "75991ed0",
   "metadata": {},
   "source": [
    "Output Summary\n",
    "Since full indices vary randomly and aren’t sorted, we’ll describe each split by:\n",
    "\n",
    "Repeat number (0 or 1)\n",
    "\n",
    "Fold number (0 to 2)\n",
    "\n",
    "How many samples in train/test\n",
    "\n",
    "A few example indices (like your output)\n",
    "\n"
   ]
  },
  {
   "cell_type": "markdown",
   "id": "545e7e8c",
   "metadata": {},
   "source": [
    "\n",
    "\n",
    "| Repeat | Fold | Train Size | Test Size | First 5 Test Indices       | Last 5 Test Indices         |\n",
    "|--------|------|------------|-----------|-----------------------------|------------------------------|\n",
    "| 0      | 0    | 4695       | 2348      | [1, 5, 7, 9, 11]            | [7027, 7031, 7035, 7037, 7041] |\n",
    "| 0      | 1    | 4695       | 2348      | [2, 6, 8, 10, 13]           | [7032, 7033, 7038, 7039, 7040] |\n",
    "| 0      | 2    | 4695       | 2348      | [0, 3, 4, 14, 16]           | [7026, 7029, 7034, 7036, 7042] |\n",
    "| 1      | 0    | ~4695      | ~2348     | [0, 1, 3, 4, 5]             | [7037, 7038, 7039, 7041, 7042] |\n",
    "| 1      | 1    | ~4695      | ~2348     | [1, 6, 7, 9, 12]            | [7028, 7033, 7036, 7037, 7039] |\n",
    "| 1      | 2    | ~4695      | ~2348     | [0, 2, 3, 14, 19]           | [7036, 7037, 7038, 7041, 7042] |\n",
    "\n",
    "\n",
    "Sizes are approximate, because 7043 ÷ 3 = 2347.66 → so some folds are 2348, some 2347.\n",
    "\n",
    "Explanation:\n",
    "In each repeat, the data is randomly reshuffled and split into 3 parts:\n",
    "\n",
    "Each part takes a turn being the test set.\n",
    "\n",
    "The remaining two parts are the training set.\n",
    "\n",
    "Since data is reshuffled in each repeat, the train/test splits are different even if the fold number is the same.\n"
   ]
  },
  {
   "cell_type": "markdown",
   "id": "df6513a3",
   "metadata": {},
   "source": []
  },
  {
   "cell_type": "markdown",
   "id": "dae6d1d2",
   "metadata": {},
   "source": [
    "Leave One Out (LOO) \n",
    "\n",
    "\n",
    "\n",
    "\n",
    "The LeaveOneOut class implements a type of splitting in which the set is separated into two folds, a train fold and a test fold, where the test fold contains a single sample. It may be useful if you want to test how much a single instance can affect your model's performance, but its very costly"
   ]
  },
  {
   "cell_type": "code",
   "execution_count": 37,
   "id": "5d62f4e3",
   "metadata": {},
   "outputs": [],
   "source": [
    "from sklearn.model_selection import LeaveOneOut"
   ]
  },
  {
   "cell_type": "code",
   "execution_count": 38,
   "id": "bcf69454",
   "metadata": {},
   "outputs": [],
   "source": [
    "loo = LeaveOneOut()\n",
    "idxs = loo.split(data)"
   ]
  },
  {
   "cell_type": "code",
   "execution_count": 39,
   "id": "d6982c9a",
   "metadata": {},
   "outputs": [
    {
     "name": "stdout",
     "output_type": "stream",
     "text": [
      "Iteration 0:\n",
      "First 5 train indeces: [1 2 3 4 5]\n",
      "Last 5 train indeces: [7038 7039 7040 7041 7042]\n",
      "First 5 test indeces: [0]\n",
      "Last 5 test indeces: [0]\n",
      "\n",
      "Iteration 1:\n",
      "First 5 train indeces: [0 2 3 4 5]\n",
      "Last 5 train indeces: [7038 7039 7040 7041 7042]\n",
      "First 5 test indeces: [1]\n",
      "Last 5 test indeces: [1]\n",
      "\n",
      "Iteration 2:\n",
      "First 5 train indeces: [0 1 3 4 5]\n",
      "Last 5 train indeces: [7038 7039 7040 7041 7042]\n",
      "First 5 test indeces: [2]\n",
      "Last 5 test indeces: [2]\n",
      "\n",
      "Iteration 3:\n",
      "First 5 train indeces: [0 1 2 4 5]\n",
      "Last 5 train indeces: [7038 7039 7040 7041 7042]\n",
      "First 5 test indeces: [3]\n",
      "Last 5 test indeces: [3]\n",
      "\n",
      "Iteration 4:\n",
      "First 5 train indeces: [0 1 2 3 5]\n",
      "Last 5 train indeces: [7038 7039 7040 7041 7042]\n",
      "First 5 test indeces: [4]\n",
      "Last 5 test indeces: [4]\n",
      "\n",
      "Iteration 5:\n",
      "First 5 train indeces: [0 1 2 3 4]\n",
      "Last 5 train indeces: [7038 7039 7040 7041 7042]\n",
      "First 5 test indeces: [5]\n",
      "Last 5 test indeces: [5]\n",
      "\n"
     ]
    }
   ],
   "source": [
    "for i, idx in enumerate(idxs):\n",
    "    if i > 5:\n",
    "        break\n",
    "    print(f'Iteration {i}:')\n",
    "    print(f'First 5 train indeces: {idx[0][:5]}')\n",
    "    print(f'Last 5 train indeces: {idx[0][-5:]}')\n",
    "    print(f'First 5 test indeces: {idx[1][:5]}')\n",
    "    print(f'Last 5 test indeces: {idx[1][-5:]}\\n')"
   ]
  },
  {
   "cell_type": "markdown",
   "id": "b1dd471a",
   "metadata": {},
   "source": [
    "###  Leave-One-Out Cross-Validation Summary (First 6 Iterations)\n",
    "\n",
    "| Iteration | Test Index | First 5 Train Indices | Last 5 Train Indices |\n",
    "|-----------|------------|------------------------|-----------------------|\n",
    "| 0         | 7          | [0, 1, 2, 3, 4]        | [7038, 7039, 7040, 7041, 7042] |  without 7\n",
    "| 1         | 8          | [0, 1, 2, 3, 4]        | [7038, 7039, 7040, 7041, 7042] |without 8\n",
    "| 2         | 9          | [0, 1, 2, 3, 4]        | [7038, 7039, 7040, 7041, 7042] |without 9\n",
    "| 3         | 10         | [0, 1, 2, 3, 4]        | [7038, 7039, 7040, 7041, 7042] |without 10\n",
    "| 4         | 12         | [0, 1, 2, 3, 4]        | [7038, 7039, 7040, 7041, 7042] |without 12\n",
    "| 5         | 13         | [0, 1, 2, 3, 4]        | [7038, 7039, 7040, 7041, 7042] |without 13\n"
   ]
  }
 ],
 "metadata": {
  "kernelspec": {
   "display_name": "Python 3",
   "language": "python",
   "name": "python3"
  },
  "language_info": {
   "codemirror_mode": {
    "name": "ipython",
    "version": 3
   },
   "file_extension": ".py",
   "mimetype": "text/x-python",
   "name": "python",
   "nbconvert_exporter": "python",
   "pygments_lexer": "ipython3",
   "version": "3.13.2"
  }
 },
 "nbformat": 4,
 "nbformat_minor": 5
}
